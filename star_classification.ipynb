{
 "cells": [
  {
   "cell_type": "markdown",
   "metadata": {},
   "source": [
    "## Star classification dataset\n",
    "\n",
    "The purpose of this notebook is to use photometric and spectroscopy data observations to classify three types of objects: stars, galaxies, and quasars.\n",
    "\n",
    "The dataset is provided by the [SDSS project (Sloan Digital Sky Survey)](https://en.wikipedia.org/wiki/Sloan_Digital_Sky_Survey). The data contains thousands of photometric observations of astronomical objects. Each observation is labeled with the type of objects which can be galaxies, stars, and quasars.\n",
    "\n",
    "What type of data are we dealing with? \n",
    "\n",
    "The SDD telescopes are equipped with imaging cameras that measure the intensity of incoming radiation in the electromagnetic spectrum. In the cameras, different type of filters are placed to measure the radiation at different frequencies. This intensities are available as features in the dataset:\n",
    "\n",
    "-  **u**: ultraviolet light\n",
    "-  **g**: blue and green visible light\n",
    "-  **r**: yellow and red visible light\n",
    "-  **i**: near-infrared light\n",
    "-  **z**: near-infrared light\n",
    "\n",
    "In addition to the above filters, the dataset includes a measurement of the redshift (**z**). For a celestial body, this value is defined as the difference between observed and emitted wavelength, divided by the emitted wavelength. [Read this](https://voyages.sdss.org/preflight/light/redshift/) for a more extended explanation.\n",
    "\n",
    "Furthremore, we also have the data for the coordinates of the celestial objects. These are the **alpha** and **delta** and represent the coordinates on the celestial sphere. This [post](https://voyages.sdss.org/preflight/locating-objects/ra-dec/) describes how they are measured. For the purpose of this analysis it is useful to understand that they represent coordinates in degrees.\n",
    "\n",
    "All the previously described data measurements are used to create a model for star classification.\n",
    "\n",
    "This notebook is organzied as follows:\n",
    "\n",
    "- [Data importing](#data-import)\n",
    "- [Explroatory data analysis](#exploratory-data-analysis)\n",
    "    - [Feature distribution](#feature-distribution)\n",
    "    - [Feature importance](#feature-importance)\n",
    "- Data cleaning\n",
    "- Feature engineering\n",
    "- Model training"
   ]
  },
  {
   "cell_type": "markdown",
   "metadata": {},
   "source": [
    "# TODOS:\n",
    "\n",
    "- Complete feature importance (~1,5h)\n",
    "- Check xboost feature importance (~1,5h)\n",
    "- Convert notebook to exectuable script (~1h)\n",
    "- Check how to deploy the model (~4h??)\n",
    "- Containerization (~3h??)\n",
    "- Deployment to cloyd (~5h?)\n",
    "\n",
    "Total hours: ~20"
   ]
  },
  {
   "cell_type": "markdown",
   "metadata": {},
   "source": [
    "## Imports"
   ]
  },
  {
   "cell_type": "code",
   "execution_count": 1,
   "metadata": {},
   "outputs": [],
   "source": [
    "import pandas as pd\n",
    "import seaborn as sns\n",
    "import matplotlib.pyplot as plt"
   ]
  },
  {
   "cell_type": "markdown",
   "metadata": {},
   "source": [
    "## Data import"
   ]
  },
  {
   "cell_type": "code",
   "execution_count": 2,
   "metadata": {},
   "outputs": [
    {
     "name": "stdout",
     "output_type": "stream",
     "text": [
      "Data length:  100000\n"
     ]
    },
    {
     "data": {
      "text/html": [
       "<div>\n",
       "<style scoped>\n",
       "    .dataframe tbody tr th:only-of-type {\n",
       "        vertical-align: middle;\n",
       "    }\n",
       "\n",
       "    .dataframe tbody tr th {\n",
       "        vertical-align: top;\n",
       "    }\n",
       "\n",
       "    .dataframe thead th {\n",
       "        text-align: right;\n",
       "    }\n",
       "</style>\n",
       "<table border=\"1\" class=\"dataframe\">\n",
       "  <thead>\n",
       "    <tr style=\"text-align: right;\">\n",
       "      <th></th>\n",
       "      <th>obj_ID</th>\n",
       "      <th>alpha</th>\n",
       "      <th>delta</th>\n",
       "      <th>u</th>\n",
       "      <th>g</th>\n",
       "      <th>r</th>\n",
       "      <th>i</th>\n",
       "      <th>z</th>\n",
       "      <th>run_ID</th>\n",
       "      <th>rerun_ID</th>\n",
       "      <th>cam_col</th>\n",
       "      <th>field_ID</th>\n",
       "      <th>spec_obj_ID</th>\n",
       "      <th>class</th>\n",
       "      <th>redshift</th>\n",
       "      <th>plate</th>\n",
       "      <th>MJD</th>\n",
       "      <th>fiber_ID</th>\n",
       "    </tr>\n",
       "  </thead>\n",
       "  <tbody>\n",
       "    <tr>\n",
       "      <th>0</th>\n",
       "      <td>1.237661e+18</td>\n",
       "      <td>135.689107</td>\n",
       "      <td>32.494632</td>\n",
       "      <td>23.87882</td>\n",
       "      <td>22.27530</td>\n",
       "      <td>20.39501</td>\n",
       "      <td>19.16573</td>\n",
       "      <td>18.79371</td>\n",
       "      <td>3606</td>\n",
       "      <td>301</td>\n",
       "      <td>2</td>\n",
       "      <td>79</td>\n",
       "      <td>6.543777e+18</td>\n",
       "      <td>GALAXY</td>\n",
       "      <td>0.634794</td>\n",
       "      <td>5812</td>\n",
       "      <td>56354</td>\n",
       "      <td>171</td>\n",
       "    </tr>\n",
       "    <tr>\n",
       "      <th>1</th>\n",
       "      <td>1.237665e+18</td>\n",
       "      <td>144.826101</td>\n",
       "      <td>31.274185</td>\n",
       "      <td>24.77759</td>\n",
       "      <td>22.83188</td>\n",
       "      <td>22.58444</td>\n",
       "      <td>21.16812</td>\n",
       "      <td>21.61427</td>\n",
       "      <td>4518</td>\n",
       "      <td>301</td>\n",
       "      <td>5</td>\n",
       "      <td>119</td>\n",
       "      <td>1.176014e+19</td>\n",
       "      <td>GALAXY</td>\n",
       "      <td>0.779136</td>\n",
       "      <td>10445</td>\n",
       "      <td>58158</td>\n",
       "      <td>427</td>\n",
       "    </tr>\n",
       "    <tr>\n",
       "      <th>2</th>\n",
       "      <td>1.237661e+18</td>\n",
       "      <td>142.188790</td>\n",
       "      <td>35.582444</td>\n",
       "      <td>25.26307</td>\n",
       "      <td>22.66389</td>\n",
       "      <td>20.60976</td>\n",
       "      <td>19.34857</td>\n",
       "      <td>18.94827</td>\n",
       "      <td>3606</td>\n",
       "      <td>301</td>\n",
       "      <td>2</td>\n",
       "      <td>120</td>\n",
       "      <td>5.152200e+18</td>\n",
       "      <td>GALAXY</td>\n",
       "      <td>0.644195</td>\n",
       "      <td>4576</td>\n",
       "      <td>55592</td>\n",
       "      <td>299</td>\n",
       "    </tr>\n",
       "    <tr>\n",
       "      <th>3</th>\n",
       "      <td>1.237663e+18</td>\n",
       "      <td>338.741038</td>\n",
       "      <td>-0.402828</td>\n",
       "      <td>22.13682</td>\n",
       "      <td>23.77656</td>\n",
       "      <td>21.61162</td>\n",
       "      <td>20.50454</td>\n",
       "      <td>19.25010</td>\n",
       "      <td>4192</td>\n",
       "      <td>301</td>\n",
       "      <td>3</td>\n",
       "      <td>214</td>\n",
       "      <td>1.030107e+19</td>\n",
       "      <td>GALAXY</td>\n",
       "      <td>0.932346</td>\n",
       "      <td>9149</td>\n",
       "      <td>58039</td>\n",
       "      <td>775</td>\n",
       "    </tr>\n",
       "    <tr>\n",
       "      <th>4</th>\n",
       "      <td>1.237680e+18</td>\n",
       "      <td>345.282593</td>\n",
       "      <td>21.183866</td>\n",
       "      <td>19.43718</td>\n",
       "      <td>17.58028</td>\n",
       "      <td>16.49747</td>\n",
       "      <td>15.97711</td>\n",
       "      <td>15.54461</td>\n",
       "      <td>8102</td>\n",
       "      <td>301</td>\n",
       "      <td>3</td>\n",
       "      <td>137</td>\n",
       "      <td>6.891865e+18</td>\n",
       "      <td>GALAXY</td>\n",
       "      <td>0.116123</td>\n",
       "      <td>6121</td>\n",
       "      <td>56187</td>\n",
       "      <td>842</td>\n",
       "    </tr>\n",
       "  </tbody>\n",
       "</table>\n",
       "</div>"
      ],
      "text/plain": [
       "         obj_ID       alpha      delta         u         g         r  \\\n",
       "0  1.237661e+18  135.689107  32.494632  23.87882  22.27530  20.39501   \n",
       "1  1.237665e+18  144.826101  31.274185  24.77759  22.83188  22.58444   \n",
       "2  1.237661e+18  142.188790  35.582444  25.26307  22.66389  20.60976   \n",
       "3  1.237663e+18  338.741038  -0.402828  22.13682  23.77656  21.61162   \n",
       "4  1.237680e+18  345.282593  21.183866  19.43718  17.58028  16.49747   \n",
       "\n",
       "          i         z  run_ID  rerun_ID  cam_col  field_ID   spec_obj_ID  \\\n",
       "0  19.16573  18.79371    3606       301        2        79  6.543777e+18   \n",
       "1  21.16812  21.61427    4518       301        5       119  1.176014e+19   \n",
       "2  19.34857  18.94827    3606       301        2       120  5.152200e+18   \n",
       "3  20.50454  19.25010    4192       301        3       214  1.030107e+19   \n",
       "4  15.97711  15.54461    8102       301        3       137  6.891865e+18   \n",
       "\n",
       "    class  redshift  plate    MJD  fiber_ID  \n",
       "0  GALAXY  0.634794   5812  56354       171  \n",
       "1  GALAXY  0.779136  10445  58158       427  \n",
       "2  GALAXY  0.644195   4576  55592       299  \n",
       "3  GALAXY  0.932346   9149  58039       775  \n",
       "4  GALAXY  0.116123   6121  56187       842  "
      ]
     },
     "execution_count": 2,
     "metadata": {},
     "output_type": "execute_result"
    }
   ],
   "source": [
    "df = pd.read_csv(\"data/star_classification.csv\")\n",
    "print(\"Data length: \", len(df))\n",
    "df.head()"
   ]
  },
  {
   "cell_type": "markdown",
   "metadata": {},
   "source": [
    "Some of the columns above are metadata and are not important for classification purposes. Let's select the relevant features:"
   ]
  },
  {
   "cell_type": "code",
   "execution_count": 68,
   "metadata": {},
   "outputs": [],
   "source": [
    "position_columns = [\"alpha\", \"delta\"]\n",
    "filter_columns = [\"u\", \"g\", \"r\", \"i\", \"z\",\"redshift\"]\n",
    "target_col = [\"class\"]\n",
    "\n",
    "df = df[position_columns + filter_columns + target_col]"
   ]
  },
  {
   "cell_type": "markdown",
   "metadata": {},
   "source": [
    "## Exploratory data analysis"
   ]
  },
  {
   "cell_type": "code",
   "execution_count": 57,
   "metadata": {},
   "outputs": [
    {
     "data": {
      "text/html": [
       "<div>\n",
       "<style scoped>\n",
       "    .dataframe tbody tr th:only-of-type {\n",
       "        vertical-align: middle;\n",
       "    }\n",
       "\n",
       "    .dataframe tbody tr th {\n",
       "        vertical-align: top;\n",
       "    }\n",
       "\n",
       "    .dataframe thead th {\n",
       "        text-align: right;\n",
       "    }\n",
       "</style>\n",
       "<table border=\"1\" class=\"dataframe\">\n",
       "  <thead>\n",
       "    <tr style=\"text-align: right;\">\n",
       "      <th></th>\n",
       "      <th>alpha</th>\n",
       "      <th>delta</th>\n",
       "      <th>u</th>\n",
       "      <th>g</th>\n",
       "      <th>r</th>\n",
       "      <th>i</th>\n",
       "      <th>z</th>\n",
       "      <th>redshift</th>\n",
       "    </tr>\n",
       "  </thead>\n",
       "  <tbody>\n",
       "    <tr>\n",
       "      <th>count</th>\n",
       "      <td>99999.000000</td>\n",
       "      <td>99999.000000</td>\n",
       "      <td>99999.000000</td>\n",
       "      <td>99999.000000</td>\n",
       "      <td>99999.000000</td>\n",
       "      <td>99999.000000</td>\n",
       "      <td>99999.000000</td>\n",
       "      <td>99999.000000</td>\n",
       "    </tr>\n",
       "    <tr>\n",
       "      <th>mean</th>\n",
       "      <td>177.628653</td>\n",
       "      <td>24.135552</td>\n",
       "      <td>22.080679</td>\n",
       "      <td>20.631583</td>\n",
       "      <td>19.645777</td>\n",
       "      <td>19.084865</td>\n",
       "      <td>18.768988</td>\n",
       "      <td>0.576667</td>\n",
       "    </tr>\n",
       "    <tr>\n",
       "      <th>std</th>\n",
       "      <td>96.502612</td>\n",
       "      <td>19.644608</td>\n",
       "      <td>2.251068</td>\n",
       "      <td>2.037384</td>\n",
       "      <td>1.854763</td>\n",
       "      <td>1.757900</td>\n",
       "      <td>1.765982</td>\n",
       "      <td>0.730709</td>\n",
       "    </tr>\n",
       "    <tr>\n",
       "      <th>min</th>\n",
       "      <td>0.005528</td>\n",
       "      <td>-18.785328</td>\n",
       "      <td>10.996230</td>\n",
       "      <td>10.498200</td>\n",
       "      <td>9.822070</td>\n",
       "      <td>9.469903</td>\n",
       "      <td>9.612333</td>\n",
       "      <td>-0.009971</td>\n",
       "    </tr>\n",
       "    <tr>\n",
       "      <th>25%</th>\n",
       "      <td>127.517698</td>\n",
       "      <td>5.147477</td>\n",
       "      <td>20.352410</td>\n",
       "      <td>18.965240</td>\n",
       "      <td>18.135795</td>\n",
       "      <td>17.732280</td>\n",
       "      <td>17.460830</td>\n",
       "      <td>0.054522</td>\n",
       "    </tr>\n",
       "    <tr>\n",
       "      <th>50%</th>\n",
       "      <td>180.900527</td>\n",
       "      <td>23.646462</td>\n",
       "      <td>22.179140</td>\n",
       "      <td>21.099930</td>\n",
       "      <td>20.125310</td>\n",
       "      <td>19.405150</td>\n",
       "      <td>19.004600</td>\n",
       "      <td>0.424176</td>\n",
       "    </tr>\n",
       "    <tr>\n",
       "      <th>75%</th>\n",
       "      <td>233.895005</td>\n",
       "      <td>39.901582</td>\n",
       "      <td>23.687480</td>\n",
       "      <td>22.123775</td>\n",
       "      <td>21.044790</td>\n",
       "      <td>20.396510</td>\n",
       "      <td>19.921120</td>\n",
       "      <td>0.704172</td>\n",
       "    </tr>\n",
       "    <tr>\n",
       "      <th>max</th>\n",
       "      <td>359.999810</td>\n",
       "      <td>83.000519</td>\n",
       "      <td>32.781390</td>\n",
       "      <td>31.602240</td>\n",
       "      <td>29.571860</td>\n",
       "      <td>32.141470</td>\n",
       "      <td>29.383740</td>\n",
       "      <td>7.011245</td>\n",
       "    </tr>\n",
       "  </tbody>\n",
       "</table>\n",
       "</div>"
      ],
      "text/plain": [
       "              alpha         delta             u             g             r  \\\n",
       "count  99999.000000  99999.000000  99999.000000  99999.000000  99999.000000   \n",
       "mean     177.628653     24.135552     22.080679     20.631583     19.645777   \n",
       "std       96.502612     19.644608      2.251068      2.037384      1.854763   \n",
       "min        0.005528    -18.785328     10.996230     10.498200      9.822070   \n",
       "25%      127.517698      5.147477     20.352410     18.965240     18.135795   \n",
       "50%      180.900527     23.646462     22.179140     21.099930     20.125310   \n",
       "75%      233.895005     39.901582     23.687480     22.123775     21.044790   \n",
       "max      359.999810     83.000519     32.781390     31.602240     29.571860   \n",
       "\n",
       "                  i             z      redshift  \n",
       "count  99999.000000  99999.000000  99999.000000  \n",
       "mean      19.084865     18.768988      0.576667  \n",
       "std        1.757900      1.765982      0.730709  \n",
       "min        9.469903      9.612333     -0.009971  \n",
       "25%       17.732280     17.460830      0.054522  \n",
       "50%       19.405150     19.004600      0.424176  \n",
       "75%       20.396510     19.921120      0.704172  \n",
       "max       32.141470     29.383740      7.011245  "
      ]
     },
     "execution_count": 57,
     "metadata": {},
     "output_type": "execute_result"
    }
   ],
   "source": [
    "df.describe()"
   ]
  },
  {
   "cell_type": "code",
   "execution_count": 58,
   "metadata": {},
   "outputs": [
    {
     "name": "stdout",
     "output_type": "stream",
     "text": [
      "<class 'pandas.core.frame.DataFrame'>\n",
      "Index: 99999 entries, 0 to 99999\n",
      "Data columns (total 9 columns):\n",
      " #   Column    Non-Null Count  Dtype  \n",
      "---  ------    --------------  -----  \n",
      " 0   alpha     99999 non-null  float64\n",
      " 1   delta     99999 non-null  float64\n",
      " 2   u         99999 non-null  float64\n",
      " 3   g         99999 non-null  float64\n",
      " 4   r         99999 non-null  float64\n",
      " 5   i         99999 non-null  float64\n",
      " 6   z         99999 non-null  float64\n",
      " 7   redshift  99999 non-null  float64\n",
      " 8   class     99999 non-null  object \n",
      "dtypes: float64(8), object(1)\n",
      "memory usage: 7.6+ MB\n"
     ]
    }
   ],
   "source": [
    "df.info()"
   ]
  },
  {
   "cell_type": "markdown",
   "metadata": {},
   "source": [
    "### Features distribution\n"
   ]
  },
  {
   "cell_type": "markdown",
   "metadata": {},
   "source": [
    "In order to perform the feature analysis, it is useful to split the features into two different sets: positional features and filter features."
   ]
  },
  {
   "cell_type": "code",
   "execution_count": 6,
   "metadata": {},
   "outputs": [
    {
     "data": {
      "text/html": [
       "<div>\n",
       "<style scoped>\n",
       "    .dataframe tbody tr th:only-of-type {\n",
       "        vertical-align: middle;\n",
       "    }\n",
       "\n",
       "    .dataframe tbody tr th {\n",
       "        vertical-align: top;\n",
       "    }\n",
       "\n",
       "    .dataframe thead th {\n",
       "        text-align: right;\n",
       "    }\n",
       "</style>\n",
       "<table border=\"1\" class=\"dataframe\">\n",
       "  <thead>\n",
       "    <tr style=\"text-align: right;\">\n",
       "      <th></th>\n",
       "      <th>u</th>\n",
       "      <th>g</th>\n",
       "      <th>r</th>\n",
       "      <th>i</th>\n",
       "      <th>z</th>\n",
       "      <th>redshift</th>\n",
       "    </tr>\n",
       "  </thead>\n",
       "  <tbody>\n",
       "    <tr>\n",
       "      <th>count</th>\n",
       "      <td>100000.000000</td>\n",
       "      <td>100000.000000</td>\n",
       "      <td>100000.000000</td>\n",
       "      <td>100000.000000</td>\n",
       "      <td>100000.000000</td>\n",
       "      <td>100000.000000</td>\n",
       "    </tr>\n",
       "    <tr>\n",
       "      <th>mean</th>\n",
       "      <td>21.980468</td>\n",
       "      <td>20.531387</td>\n",
       "      <td>19.645762</td>\n",
       "      <td>19.084854</td>\n",
       "      <td>18.668810</td>\n",
       "      <td>0.576661</td>\n",
       "    </tr>\n",
       "    <tr>\n",
       "      <th>std</th>\n",
       "      <td>31.769291</td>\n",
       "      <td>31.750292</td>\n",
       "      <td>1.854760</td>\n",
       "      <td>1.757895</td>\n",
       "      <td>31.728152</td>\n",
       "      <td>0.730707</td>\n",
       "    </tr>\n",
       "    <tr>\n",
       "      <th>min</th>\n",
       "      <td>-9999.000000</td>\n",
       "      <td>-9999.000000</td>\n",
       "      <td>9.822070</td>\n",
       "      <td>9.469903</td>\n",
       "      <td>-9999.000000</td>\n",
       "      <td>-0.009971</td>\n",
       "    </tr>\n",
       "    <tr>\n",
       "      <th>25%</th>\n",
       "      <td>20.352353</td>\n",
       "      <td>18.965230</td>\n",
       "      <td>18.135828</td>\n",
       "      <td>17.732285</td>\n",
       "      <td>17.460677</td>\n",
       "      <td>0.054517</td>\n",
       "    </tr>\n",
       "    <tr>\n",
       "      <th>50%</th>\n",
       "      <td>22.179135</td>\n",
       "      <td>21.099835</td>\n",
       "      <td>20.125290</td>\n",
       "      <td>19.405145</td>\n",
       "      <td>19.004595</td>\n",
       "      <td>0.424173</td>\n",
       "    </tr>\n",
       "    <tr>\n",
       "      <th>75%</th>\n",
       "      <td>23.687440</td>\n",
       "      <td>22.123767</td>\n",
       "      <td>21.044785</td>\n",
       "      <td>20.396495</td>\n",
       "      <td>19.921120</td>\n",
       "      <td>0.704154</td>\n",
       "    </tr>\n",
       "    <tr>\n",
       "      <th>max</th>\n",
       "      <td>32.781390</td>\n",
       "      <td>31.602240</td>\n",
       "      <td>29.571860</td>\n",
       "      <td>32.141470</td>\n",
       "      <td>29.383740</td>\n",
       "      <td>7.011245</td>\n",
       "    </tr>\n",
       "  </tbody>\n",
       "</table>\n",
       "</div>"
      ],
      "text/plain": [
       "                   u              g              r              i  \\\n",
       "count  100000.000000  100000.000000  100000.000000  100000.000000   \n",
       "mean       21.980468      20.531387      19.645762      19.084854   \n",
       "std        31.769291      31.750292       1.854760       1.757895   \n",
       "min     -9999.000000   -9999.000000       9.822070       9.469903   \n",
       "25%        20.352353      18.965230      18.135828      17.732285   \n",
       "50%        22.179135      21.099835      20.125290      19.405145   \n",
       "75%        23.687440      22.123767      21.044785      20.396495   \n",
       "max        32.781390      31.602240      29.571860      32.141470   \n",
       "\n",
       "                   z       redshift  \n",
       "count  100000.000000  100000.000000  \n",
       "mean       18.668810       0.576661  \n",
       "std        31.728152       0.730707  \n",
       "min     -9999.000000      -0.009971  \n",
       "25%        17.460677       0.054517  \n",
       "50%        19.004595       0.424173  \n",
       "75%        19.921120       0.704154  \n",
       "max        29.383740       7.011245  "
      ]
     },
     "execution_count": 6,
     "metadata": {},
     "output_type": "execute_result"
    }
   ],
   "source": [
    "df[filter_columns].describe()"
   ]
  },
  {
   "cell_type": "markdown",
   "metadata": {},
   "source": [
    "By checking the mean values and some quantils, it is clear that the -9999 values are outliers and should be removed from the data."
   ]
  },
  {
   "cell_type": "code",
   "execution_count": 7,
   "metadata": {},
   "outputs": [],
   "source": [
    "df = df[(df[\"u\"] != -9999.0) & (df[\"g\"] != -9999.0) & (df[\"z\"] != -9999.0)]"
   ]
  },
  {
   "cell_type": "markdown",
   "metadata": {},
   "source": [
    "Now I can observe the distributions of all relevant values and their relationship"
   ]
  },
  {
   "cell_type": "code",
   "execution_count": 8,
   "metadata": {},
   "outputs": [
    {
     "data": {
      "image/png": "[encoded data removed]",
      "text/plain": [
       "<Figure size 1200x600 with 6 Axes>"
      ]
     },
     "metadata": {},
     "output_type": "display_data"
    }
   ],
   "source": [
    "# Set up the matplotlib figure\n",
    "fig, axes = plt.subplots(2, 3, figsize=(12, 6))\n",
    "\n",
    "# Flatten the axes array\n",
    "axes = axes.flatten()\n",
    "\n",
    "# Loop through each column and plot its distribution\n",
    "for i, col in enumerate(filter_columns):\n",
    "    sns.histplot(df[col], ax=axes[i], kde=True)\n",
    "    axes[i].set_title(f'Distribution of {col}')\n",
    "\n",
    "# Adjust layout\n",
    "plt.tight_layout()\n",
    "\n",
    "# Show the plot\n",
    "plt.show()"
   ]
  },
  {
   "cell_type": "markdown",
   "metadata": {},
   "source": [
    "Most of the distributions above appear to be bimodal which is a mixture of two normal distributions. However, even simple models such as logistic regression can deal with these type of features. "
   ]
  },
  {
   "cell_type": "markdown",
   "metadata": {},
   "source": [
    "Next, I want to observe the distribution of the positional features."
   ]
  },
  {
   "cell_type": "code",
   "execution_count": 54,
   "metadata": {},
   "outputs": [
    {
     "data": {
      "text/html": [
       "<div>\n",
       "<style scoped>\n",
       "    .dataframe tbody tr th:only-of-type {\n",
       "        vertical-align: middle;\n",
       "    }\n",
       "\n",
       "    .dataframe tbody tr th {\n",
       "        vertical-align: top;\n",
       "    }\n",
       "\n",
       "    .dataframe thead th {\n",
       "        text-align: right;\n",
       "    }\n",
       "</style>\n",
       "<table border=\"1\" class=\"dataframe\">\n",
       "  <thead>\n",
       "    <tr style=\"text-align: right;\">\n",
       "      <th></th>\n",
       "      <th>alpha</th>\n",
       "      <th>delta</th>\n",
       "    </tr>\n",
       "  </thead>\n",
       "  <tbody>\n",
       "    <tr>\n",
       "      <th>count</th>\n",
       "      <td>99999.000000</td>\n",
       "      <td>99999.000000</td>\n",
       "    </tr>\n",
       "    <tr>\n",
       "      <th>mean</th>\n",
       "      <td>177.628653</td>\n",
       "      <td>24.135552</td>\n",
       "    </tr>\n",
       "    <tr>\n",
       "      <th>std</th>\n",
       "      <td>96.502612</td>\n",
       "      <td>19.644608</td>\n",
       "    </tr>\n",
       "    <tr>\n",
       "      <th>min</th>\n",
       "      <td>0.005528</td>\n",
       "      <td>-18.785328</td>\n",
       "    </tr>\n",
       "    <tr>\n",
       "      <th>25%</th>\n",
       "      <td>127.517698</td>\n",
       "      <td>5.147477</td>\n",
       "    </tr>\n",
       "    <tr>\n",
       "      <th>50%</th>\n",
       "      <td>180.900527</td>\n",
       "      <td>23.646462</td>\n",
       "    </tr>\n",
       "    <tr>\n",
       "      <th>75%</th>\n",
       "      <td>233.895005</td>\n",
       "      <td>39.901582</td>\n",
       "    </tr>\n",
       "    <tr>\n",
       "      <th>max</th>\n",
       "      <td>359.999810</td>\n",
       "      <td>83.000519</td>\n",
       "    </tr>\n",
       "  </tbody>\n",
       "</table>\n",
       "</div>"
      ],
      "text/plain": [
       "              alpha         delta\n",
       "count  99999.000000  99999.000000\n",
       "mean     177.628653     24.135552\n",
       "std       96.502612     19.644608\n",
       "min        0.005528    -18.785328\n",
       "25%      127.517698      5.147477\n",
       "50%      180.900527     23.646462\n",
       "75%      233.895005     39.901582\n",
       "max      359.999810     83.000519"
      ]
     },
     "execution_count": 54,
     "metadata": {},
     "output_type": "execute_result"
    }
   ],
   "source": [
    "df[position_columns].describe()"
   ]
  },
  {
   "cell_type": "code",
   "execution_count": 53,
   "metadata": {},
   "outputs": [
    {
     "data": {
      "text/plain": [
       "<Figure size 1500x500 with 0 Axes>"
      ]
     },
     "metadata": {},
     "output_type": "display_data"
    },
    {
     "data": {
      "image/png": "[encoded data removed]",
      "text/plain": [
       "<Figure size 400x400 with 3 Axes>"
      ]
     },
     "metadata": {},
     "output_type": "display_data"
    }
   ],
   "source": [
    "# Set up the matplotlib figure\n",
    "# sns.set(rc={'figure.figsize':(2,2)})\n",
    "plt.figure(figsize=(15,5))\n",
    "sns.jointplot(data=df, x=\"alpha\", y=\"delta\", kind=\"hist\", height=4)\n",
    "plt.show()"
   ]
  },
  {
   "cell_type": "markdown",
   "metadata": {},
   "source": [
    "From the distribution above it can be understood that the values of these coordinates cover more and less an entire sphere. alpha (~0-360), delta (~0-90)."
   ]
  },
  {
   "cell_type": "markdown",
   "metadata": {},
   "source": [
    "### Feature importance"
   ]
  },
  {
   "cell_type": "markdown",
   "metadata": {},
   "source": [
    "What classes are available and how are they balanced?"
   ]
  },
  {
   "cell_type": "code",
   "execution_count": 65,
   "metadata": {},
   "outputs": [
    {
     "data": {
      "text/plain": [
       "class\n",
       "GALAXY    59445\n",
       "STAR      21593\n",
       "QSO       18961\n",
       "Name: count, dtype: int64"
      ]
     },
     "execution_count": 65,
     "metadata": {},
     "output_type": "execute_result"
    }
   ],
   "source": [
    "df[\"class\"].value_counts()"
   ]
  },
  {
   "cell_type": "markdown",
   "metadata": {},
   "source": [
    "Next, check the feature statistics for each class"
   ]
  },
  {
   "cell_type": "code",
   "execution_count": 69,
   "metadata": {},
   "outputs": [
    {
     "data": {
      "text/html": [
       "<div>\n",
       "<style scoped>\n",
       "    .dataframe tbody tr th:only-of-type {\n",
       "        vertical-align: middle;\n",
       "    }\n",
       "\n",
       "    .dataframe tbody tr th {\n",
       "        vertical-align: top;\n",
       "    }\n",
       "\n",
       "    .dataframe thead th {\n",
       "        text-align: right;\n",
       "    }\n",
       "</style>\n",
       "<table border=\"1\" class=\"dataframe\">\n",
       "  <thead>\n",
       "    <tr style=\"text-align: right;\">\n",
       "      <th></th>\n",
       "      <th>u</th>\n",
       "      <th>g</th>\n",
       "      <th>r</th>\n",
       "      <th>i</th>\n",
       "      <th>z</th>\n",
       "      <th>redshift</th>\n",
       "    </tr>\n",
       "  </thead>\n",
       "  <tbody>\n",
       "    <tr>\n",
       "      <th>count</th>\n",
       "      <td>59445.000000</td>\n",
       "      <td>59445.000000</td>\n",
       "      <td>59445.000000</td>\n",
       "      <td>59445.000000</td>\n",
       "      <td>59445.000000</td>\n",
       "      <td>59445.000000</td>\n",
       "    </tr>\n",
       "    <tr>\n",
       "      <th>mean</th>\n",
       "      <td>22.587379</td>\n",
       "      <td>20.906101</td>\n",
       "      <td>19.587552</td>\n",
       "      <td>18.851990</td>\n",
       "      <td>18.449156</td>\n",
       "      <td>0.421596</td>\n",
       "    </tr>\n",
       "    <tr>\n",
       "      <th>std</th>\n",
       "      <td>2.264355</td>\n",
       "      <td>2.107755</td>\n",
       "      <td>1.874133</td>\n",
       "      <td>1.689809</td>\n",
       "      <td>1.656302</td>\n",
       "      <td>0.264858</td>\n",
       "    </tr>\n",
       "    <tr>\n",
       "      <th>min</th>\n",
       "      <td>13.897990</td>\n",
       "      <td>12.679020</td>\n",
       "      <td>11.746640</td>\n",
       "      <td>11.299560</td>\n",
       "      <td>10.897380</td>\n",
       "      <td>-0.009971</td>\n",
       "    </tr>\n",
       "    <tr>\n",
       "      <th>25%</th>\n",
       "      <td>20.794760</td>\n",
       "      <td>18.912680</td>\n",
       "      <td>17.817150</td>\n",
       "      <td>17.379670</td>\n",
       "      <td>17.095670</td>\n",
       "      <td>0.164527</td>\n",
       "    </tr>\n",
       "    <tr>\n",
       "      <th>50%</th>\n",
       "      <td>22.841770</td>\n",
       "      <td>21.582200</td>\n",
       "      <td>20.104590</td>\n",
       "      <td>19.223660</td>\n",
       "      <td>18.766630</td>\n",
       "      <td>0.456274</td>\n",
       "    </tr>\n",
       "    <tr>\n",
       "      <th>75%</th>\n",
       "      <td>24.207410</td>\n",
       "      <td>22.445130</td>\n",
       "      <td>20.974610</td>\n",
       "      <td>19.947090</td>\n",
       "      <td>19.472260</td>\n",
       "      <td>0.594699</td>\n",
       "    </tr>\n",
       "    <tr>\n",
       "      <th>max</th>\n",
       "      <td>29.325650</td>\n",
       "      <td>31.602240</td>\n",
       "      <td>29.571860</td>\n",
       "      <td>30.163590</td>\n",
       "      <td>29.383740</td>\n",
       "      <td>1.995524</td>\n",
       "    </tr>\n",
       "  </tbody>\n",
       "</table>\n",
       "</div>"
      ],
      "text/plain": [
       "                  u             g             r             i             z  \\\n",
       "count  59445.000000  59445.000000  59445.000000  59445.000000  59445.000000   \n",
       "mean      22.587379     20.906101     19.587552     18.851990     18.449156   \n",
       "std        2.264355      2.107755      1.874133      1.689809      1.656302   \n",
       "min       13.897990     12.679020     11.746640     11.299560     10.897380   \n",
       "25%       20.794760     18.912680     17.817150     17.379670     17.095670   \n",
       "50%       22.841770     21.582200     20.104590     19.223660     18.766630   \n",
       "75%       24.207410     22.445130     20.974610     19.947090     19.472260   \n",
       "max       29.325650     31.602240     29.571860     30.163590     29.383740   \n",
       "\n",
       "           redshift  \n",
       "count  59445.000000  \n",
       "mean       0.421596  \n",
       "std        0.264858  \n",
       "min       -0.009971  \n",
       "25%        0.164527  \n",
       "50%        0.456274  \n",
       "75%        0.594699  \n",
       "max        1.995524  "
      ]
     },
     "execution_count": 69,
     "metadata": {},
     "output_type": "execute_result"
    }
   ],
   "source": [
    "df[df[\"class\"] == \"GALAXY\"][filter_columns].describe()"
   ]
  },
  {
   "cell_type": "code",
   "execution_count": 70,
   "metadata": {},
   "outputs": [
    {
     "data": {
      "text/html": [
       "<div>\n",
       "<style scoped>\n",
       "    .dataframe tbody tr th:only-of-type {\n",
       "        vertical-align: middle;\n",
       "    }\n",
       "\n",
       "    .dataframe tbody tr th {\n",
       "        vertical-align: top;\n",
       "    }\n",
       "\n",
       "    .dataframe thead th {\n",
       "        text-align: right;\n",
       "    }\n",
       "</style>\n",
       "<table border=\"1\" class=\"dataframe\">\n",
       "  <thead>\n",
       "    <tr style=\"text-align: right;\">\n",
       "      <th></th>\n",
       "      <th>u</th>\n",
       "      <th>g</th>\n",
       "      <th>r</th>\n",
       "      <th>i</th>\n",
       "      <th>z</th>\n",
       "      <th>redshift</th>\n",
       "    </tr>\n",
       "  </thead>\n",
       "  <tbody>\n",
       "    <tr>\n",
       "      <th>count</th>\n",
       "      <td>21593.000000</td>\n",
       "      <td>21593.000000</td>\n",
       "      <td>21593.000000</td>\n",
       "      <td>21593.000000</td>\n",
       "      <td>21593.000000</td>\n",
       "      <td>21593.000000</td>\n",
       "    </tr>\n",
       "    <tr>\n",
       "      <th>mean</th>\n",
       "      <td>21.153830</td>\n",
       "      <td>19.617142</td>\n",
       "      <td>18.947005</td>\n",
       "      <td>18.543760</td>\n",
       "      <td>18.334295</td>\n",
       "      <td>-0.000115</td>\n",
       "    </tr>\n",
       "    <tr>\n",
       "      <th>std</th>\n",
       "      <td>2.360482</td>\n",
       "      <td>2.119478</td>\n",
       "      <td>1.972825</td>\n",
       "      <td>1.841753</td>\n",
       "      <td>1.843201</td>\n",
       "      <td>0.000465</td>\n",
       "    </tr>\n",
       "    <tr>\n",
       "      <th>min</th>\n",
       "      <td>12.101680</td>\n",
       "      <td>10.498200</td>\n",
       "      <td>9.822070</td>\n",
       "      <td>9.469903</td>\n",
       "      <td>9.612333</td>\n",
       "      <td>-0.004136</td>\n",
       "    </tr>\n",
       "    <tr>\n",
       "      <th>25%</th>\n",
       "      <td>19.327740</td>\n",
       "      <td>18.034870</td>\n",
       "      <td>17.453950</td>\n",
       "      <td>17.139600</td>\n",
       "      <td>16.964170</td>\n",
       "      <td>-0.000295</td>\n",
       "    </tr>\n",
       "    <tr>\n",
       "      <th>50%</th>\n",
       "      <td>21.010650</td>\n",
       "      <td>19.542830</td>\n",
       "      <td>18.955130</td>\n",
       "      <td>18.592390</td>\n",
       "      <td>18.319230</td>\n",
       "      <td>-0.000076</td>\n",
       "    </tr>\n",
       "    <tr>\n",
       "      <th>75%</th>\n",
       "      <td>22.960630</td>\n",
       "      <td>21.228770</td>\n",
       "      <td>20.557570</td>\n",
       "      <td>20.041980</td>\n",
       "      <td>19.729630</td>\n",
       "      <td>0.000075</td>\n",
       "    </tr>\n",
       "    <tr>\n",
       "      <th>max</th>\n",
       "      <td>30.660390</td>\n",
       "      <td>30.607000</td>\n",
       "      <td>29.374110</td>\n",
       "      <td>30.250090</td>\n",
       "      <td>26.427790</td>\n",
       "      <td>0.004153</td>\n",
       "    </tr>\n",
       "  </tbody>\n",
       "</table>\n",
       "</div>"
      ],
      "text/plain": [
       "                  u             g             r             i             z  \\\n",
       "count  21593.000000  21593.000000  21593.000000  21593.000000  21593.000000   \n",
       "mean      21.153830     19.617142     18.947005     18.543760     18.334295   \n",
       "std        2.360482      2.119478      1.972825      1.841753      1.843201   \n",
       "min       12.101680     10.498200      9.822070      9.469903      9.612333   \n",
       "25%       19.327740     18.034870     17.453950     17.139600     16.964170   \n",
       "50%       21.010650     19.542830     18.955130     18.592390     18.319230   \n",
       "75%       22.960630     21.228770     20.557570     20.041980     19.729630   \n",
       "max       30.660390     30.607000     29.374110     30.250090     26.427790   \n",
       "\n",
       "           redshift  \n",
       "count  21593.000000  \n",
       "mean      -0.000115  \n",
       "std        0.000465  \n",
       "min       -0.004136  \n",
       "25%       -0.000295  \n",
       "50%       -0.000076  \n",
       "75%        0.000075  \n",
       "max        0.004153  "
      ]
     },
     "execution_count": 70,
     "metadata": {},
     "output_type": "execute_result"
    }
   ],
   "source": [
    "df[df[\"class\"] == \"STAR\"][filter_columns].describe()"
   ]
  },
  {
   "cell_type": "code",
   "execution_count": 71,
   "metadata": {},
   "outputs": [
    {
     "data": {
      "text/html": [
       "<div>\n",
       "<style scoped>\n",
       "    .dataframe tbody tr th:only-of-type {\n",
       "        vertical-align: middle;\n",
       "    }\n",
       "\n",
       "    .dataframe tbody tr th {\n",
       "        vertical-align: top;\n",
       "    }\n",
       "\n",
       "    .dataframe thead th {\n",
       "        text-align: right;\n",
       "    }\n",
       "</style>\n",
       "<table border=\"1\" class=\"dataframe\">\n",
       "  <thead>\n",
       "    <tr style=\"text-align: right;\">\n",
       "      <th></th>\n",
       "      <th>u</th>\n",
       "      <th>g</th>\n",
       "      <th>r</th>\n",
       "      <th>i</th>\n",
       "      <th>z</th>\n",
       "      <th>redshift</th>\n",
       "    </tr>\n",
       "  </thead>\n",
       "  <tbody>\n",
       "    <tr>\n",
       "      <th>count</th>\n",
       "      <td>18961.000000</td>\n",
       "      <td>18961.000000</td>\n",
       "      <td>18961.000000</td>\n",
       "      <td>18961.000000</td>\n",
       "      <td>18961.000000</td>\n",
       "      <td>18961.000000</td>\n",
       "    </tr>\n",
       "    <tr>\n",
       "      <th>mean</th>\n",
       "      <td>21.547619</td>\n",
       "      <td>20.926193</td>\n",
       "      <td>20.624089</td>\n",
       "      <td>20.431173</td>\n",
       "      <td>20.266732</td>\n",
       "      <td>1.719676</td>\n",
       "    </tr>\n",
       "    <tr>\n",
       "      <th>std</th>\n",
       "      <td>1.495879</td>\n",
       "      <td>1.163239</td>\n",
       "      <td>1.084237</td>\n",
       "      <td>1.080135</td>\n",
       "      <td>1.095076</td>\n",
       "      <td>0.913954</td>\n",
       "    </tr>\n",
       "    <tr>\n",
       "      <th>min</th>\n",
       "      <td>10.996230</td>\n",
       "      <td>13.662170</td>\n",
       "      <td>12.357630</td>\n",
       "      <td>12.637440</td>\n",
       "      <td>11.302470</td>\n",
       "      <td>0.000461</td>\n",
       "    </tr>\n",
       "    <tr>\n",
       "      <th>25%</th>\n",
       "      <td>20.637640</td>\n",
       "      <td>20.249730</td>\n",
       "      <td>20.006330</td>\n",
       "      <td>19.811070</td>\n",
       "      <td>19.644250</td>\n",
       "      <td>1.106605</td>\n",
       "    </tr>\n",
       "    <tr>\n",
       "      <th>50%</th>\n",
       "      <td>21.503240</td>\n",
       "      <td>21.056290</td>\n",
       "      <td>20.772720</td>\n",
       "      <td>20.582110</td>\n",
       "      <td>20.373970</td>\n",
       "      <td>1.617232</td>\n",
       "    </tr>\n",
       "    <tr>\n",
       "      <th>75%</th>\n",
       "      <td>22.286470</td>\n",
       "      <td>21.687770</td>\n",
       "      <td>21.413450</td>\n",
       "      <td>21.202280</td>\n",
       "      <td>21.001230</td>\n",
       "      <td>2.220279</td>\n",
       "    </tr>\n",
       "    <tr>\n",
       "      <th>max</th>\n",
       "      <td>32.781390</td>\n",
       "      <td>27.894820</td>\n",
       "      <td>27.397090</td>\n",
       "      <td>32.141470</td>\n",
       "      <td>28.790550</td>\n",
       "      <td>7.011245</td>\n",
       "    </tr>\n",
       "  </tbody>\n",
       "</table>\n",
       "</div>"
      ],
      "text/plain": [
       "                  u             g             r             i             z  \\\n",
       "count  18961.000000  18961.000000  18961.000000  18961.000000  18961.000000   \n",
       "mean      21.547619     20.926193     20.624089     20.431173     20.266732   \n",
       "std        1.495879      1.163239      1.084237      1.080135      1.095076   \n",
       "min       10.996230     13.662170     12.357630     12.637440     11.302470   \n",
       "25%       20.637640     20.249730     20.006330     19.811070     19.644250   \n",
       "50%       21.503240     21.056290     20.772720     20.582110     20.373970   \n",
       "75%       22.286470     21.687770     21.413450     21.202280     21.001230   \n",
       "max       32.781390     27.894820     27.397090     32.141470     28.790550   \n",
       "\n",
       "           redshift  \n",
       "count  18961.000000  \n",
       "mean       1.719676  \n",
       "std        0.913954  \n",
       "min        0.000461  \n",
       "25%        1.106605  \n",
       "50%        1.617232  \n",
       "75%        2.220279  \n",
       "max        7.011245  "
      ]
     },
     "execution_count": 71,
     "metadata": {},
     "output_type": "execute_result"
    }
   ],
   "source": [
    "df[df[\"class\"] == \"QSO\"][filter_columns].describe()"
   ]
  },
  {
   "cell_type": "code",
   "execution_count": 82,
   "metadata": {},
   "outputs": [
    {
     "data": {
      "image/png": "[encoded data removed]",
      "text/plain": [
       "<Figure size 1000x400 with 6 Axes>"
      ]
     },
     "metadata": {},
     "output_type": "display_data"
    }
   ],
   "source": [
    "# Set up the matplotlib figure\n",
    "fig, axes = plt.subplots(2, 3, figsize=(10, 4))\n",
    "\n",
    "# Flatten the axes array\n",
    "axes = axes.flatten()\n",
    "\n",
    "# Loop through each column and plot the bar chart\n",
    "for i, col in enumerate(filter_columns):\n",
    "    sns.barplot(x=\"class\", y=col, data=df, ax=axes[i])\n",
    "    axes[i].set_title(f'{col} intesity')\n",
    "\n",
    "# Adjust layout\n",
    "plt.tight_layout()\n",
    "\n",
    "# Show the plot\n",
    "plt.show()"
   ]
  },
  {
   "cell_type": "markdown",
   "metadata": {},
   "source": [
    "From the different statistics and plots above, it can be infered that the readshift plays an important role in the prediction of the type of celestial object. For the type **QSO** (quasar), we observe a redshift of 1.71 whereas for **STAR** we get only values close to zero and for **GALAXY** we get 0.42 in average.\n",
    "\n",
    "This result is not surpriging as galaxies are much further away than stars. As the redshift is a result of the Doppler effect, which occurs when an object is moving away from an observer. In the case of galaxies, their redshift indicates that they are receding from us, suggesting that they are indeed distant galaxies.\n",
    "\n",
    "As for the other feaures, there are not important observable differences between classes. When training the model, we will be able to check what predictive power each feature has. "
   ]
  },
  {
   "cell_type": "markdown",
   "metadata": {},
   "source": [
    "## Modeling"
   ]
  },
  {
   "cell_type": "markdown",
   "metadata": {},
   "source": [
    "### Data preparation"
   ]
  },
  {
   "cell_type": "code",
   "execution_count": 9,
   "metadata": {},
   "outputs": [],
   "source": [
    "from sklearn.linear_model import LogisticRegression\n",
    "from sklearn.model_selection import cross_val_score, GridSearchCV, KFold, RandomizedSearchCV, train_test_split\n",
    "from sklearn.metrics import classification_report, accuracy_score, confusion_matrix"
   ]
  },
  {
   "cell_type": "code",
   "execution_count": 10,
   "metadata": {},
   "outputs": [
    {
     "data": {
      "text/plain": [
       "class\n",
       "GALAXY    59445\n",
       "STAR      21593\n",
       "QSO       18961\n",
       "Name: count, dtype: int64"
      ]
     },
     "execution_count": 10,
     "metadata": {},
     "output_type": "execute_result"
    }
   ],
   "source": [
    "# check how the classes are balanced\n",
    "\n",
    "df[\"class\"].value_counts()"
   ]
  },
  {
   "cell_type": "code",
   "execution_count": 11,
   "metadata": {},
   "outputs": [],
   "source": [
    "map_class = {\n",
    "    \"GALAXY\": 0,\n",
    "    \"STAR\": 1,\n",
    "    \"QSO\": 2\n",
    "}\n",
    "\n",
    "df[\"target\"] = df[\"class\"].apply(lambda x: map_class[x])\n",
    "X = df[filter_columns]\n",
    "y = df[\"target\"]\n",
    "X_train, X_test, y_train, y_test = train_test_split(X, y, test_size=0.2, random_state=42)"
   ]
  },
  {
   "cell_type": "markdown",
   "metadata": {},
   "source": [
    "### Logistic regression "
   ]
  },
  {
   "cell_type": "code",
   "execution_count": 12,
   "metadata": {},
   "outputs": [],
   "source": [
    "from sklearn.linear_model import LogisticRegression\n",
    "from sklearn.model_selection import cross_val_score, GridSearchCV, KFold, RandomizedSearchCV, train_test_split\n",
    "from sklearn.metrics import classification_report, accuracy_score, confusion_matrix"
   ]
  },
  {
   "cell_type": "code",
   "execution_count": 13,
   "metadata": {},
   "outputs": [],
   "source": [
    "def plot_confusion_matrix(conf_matrix):\n",
    "    # Create a heatmap\n",
    "    class_names = [\"GALAXY\", \"STAR\", \"QSO\"]\n",
    "\n",
    "    plt.figure(figsize=(6, 4))\n",
    "    sns.heatmap(conf_matrix, annot=True, fmt='d', cmap='Blues', \n",
    "                xticklabels=class_names, yticklabels=class_names)\n",
    "    plt.xlabel('Predicted')\n",
    "    plt.ylabel('True')\n",
    "    plt.title('Confusion Matrix')\n",
    "    plt.show()"
   ]
  },
  {
   "cell_type": "code",
   "execution_count": 14,
   "metadata": {},
   "outputs": [
    {
     "name": "stdout",
     "output_type": "stream",
     "text": [
      "              precision    recall  f1-score   support\n",
      "\n",
      "           0       0.96      0.96      0.96     11904\n",
      "           1       0.94      1.00      0.97      4286\n",
      "           2       0.94      0.87      0.90      3810\n",
      "\n",
      "    accuracy                           0.95     20000\n",
      "   macro avg       0.95      0.94      0.94     20000\n",
      "weighted avg       0.95      0.95      0.95     20000\n",
      "\n"
     ]
    },
    {
     "data": {
      "image/png": "[encoded data removed]",
      "text/plain": [
       "<Figure size 600x400 with 2 Axes>"
      ]
     },
     "metadata": {},
     "output_type": "display_data"
    }
   ],
   "source": [
    "# Initialize the logistic regression model\n",
    "model = LogisticRegression(multi_class='multinomial', solver='lbfgs', penalty=\"l2\", max_iter=1000)\n",
    "model.fit(X_train, y_train)\n",
    "\n",
    "# Make predictions\n",
    "y_pred = model.predict(X_test)\n",
    "\n",
    "accuracy = accuracy_score(y_test, y_pred)\n",
    "conf_matrix = confusion_matrix(y_test, y_pred)\n",
    "\n",
    "# Compute precision, recall, f1-score, support (for each class)\n",
    "classification_rep = classification_report(y_test, y_pred)\n",
    "print(classification_rep)\n",
    "plot_confusion_matrix(conf_matrix)"
   ]
  },
  {
   "cell_type": "markdown",
   "metadata": {},
   "source": [
    "### XGBoost"
   ]
  },
  {
   "cell_type": "code",
   "execution_count": 16,
   "metadata": {},
   "outputs": [],
   "source": [
    "import xgboost as xgb"
   ]
  },
  {
   "cell_type": "code",
   "execution_count": 17,
   "metadata": {},
   "outputs": [
    {
     "name": "stdout",
     "output_type": "stream",
     "text": [
      "              precision    recall  f1-score   support\n",
      "\n",
      "           0       0.97      0.98      0.98     11904\n",
      "           1       0.99      0.99      0.99      4286\n",
      "           2       0.96      0.92      0.94      3810\n",
      "\n",
      "    accuracy                           0.97     20000\n",
      "   macro avg       0.97      0.97      0.97     20000\n",
      "weighted avg       0.97      0.97      0.97     20000\n",
      "\n"
     ]
    },
    {
     "data": {
      "image/png": "[encoded data removed]",
      "text/plain": [
       "<Figure size 600x400 with 2 Axes>"
      ]
     },
     "metadata": {},
     "output_type": "display_data"
    }
   ],
   "source": [
    "xgb_model = xgb.XGBClassifier(objective=\"multi:softprob\", random_state=42)\n",
    "xgb_model.fit(X_train, y_train)\n",
    "\n",
    "y_pred = xgb_model.predict(X_test)\n",
    "\n",
    "# Compute precision, recall, f1-score, support (for each class)\n",
    "classification_rep = classification_report(y_test, y_pred)\n",
    "conf_matrix = confusion_matrix(y_test, y_pred)\n",
    "print(classification_rep)\n",
    "plot_confusion_matrix(conf_matrix)"
   ]
  },
  {
   "cell_type": "markdown",
   "metadata": {},
   "source": [
    "With xgboost it can be observed that the model metrics have considerably improved. Now it is time to optimize even further with hyperparameter tuning."
   ]
  },
  {
   "cell_type": "markdown",
   "metadata": {},
   "source": [
    "### XGBoost parameter tuning"
   ]
  },
  {
   "cell_type": "code",
   "execution_count": 18,
   "metadata": {},
   "outputs": [],
   "source": [
    "import numpy as np\n",
    "from scipy.stats import uniform, randint"
   ]
  },
  {
   "cell_type": "markdown",
   "metadata": {},
   "source": [
    "Next perform a grid search to find out what the best combination of training parameter is"
   ]
  },
  {
   "cell_type": "code",
   "execution_count": 19,
   "metadata": {},
   "outputs": [
    {
     "name": "stdout",
     "output_type": "stream",
     "text": [
      "Fitting 3 folds for each of 200 candidates, totalling 600 fits\n",
      "Model with rank: 1\n",
      "Mean validation score: 0.976 (std: 0.001)\n",
      "Parameters: {'colsample_bytree': 0.7982492056533743, 'gamma': 0.05988106590962561, 'learning_rate': 0.2971581842219685, 'max_depth': 5, 'n_estimators': 124, 'subsample': 0.8716409276577959}\n",
      "\n"
     ]
    }
   ],
   "source": [
    "def report_best_scores(results, n_top=3):\n",
    "    for i in range(1, n_top + 1):\n",
    "        candidates = np.flatnonzero(results['rank_test_score'] == i)\n",
    "        for candidate in candidates:\n",
    "            print(\"Model with rank: {0}\".format(i))\n",
    "            print(\"Mean validation score: {0:.3f} (std: {1:.3f})\".format(\n",
    "                  results['mean_test_score'][candidate],\n",
    "                  results['std_test_score'][candidate]))\n",
    "            print(\"Parameters: {0}\".format(results['params'][candidate]))\n",
    "            print(\"\")\n",
    "\n",
    "xgb_model = xgb.XGBClassifier(objective=\"multi:softprob\", random_state=42)\n",
    "\n",
    "params = {\n",
    "    \"colsample_bytree\": uniform(0.7, 0.3),\n",
    "    \"gamma\": uniform(0, 0.5),\n",
    "    \"learning_rate\": uniform(0.03, 0.3), # default 0.1 \n",
    "    \"max_depth\": randint(4, 10), # default 3\n",
    "    \"n_estimators\": randint(100, 150), # default 100\n",
    "    \"subsample\": uniform(0.6, 0.4)\n",
    "}\n",
    "\n",
    "search = RandomizedSearchCV(xgb_model, param_distributions=params, random_state=42, n_iter=200, cv=3, verbose=1, n_jobs=1, return_train_score=True)\n",
    "\n",
    "search.fit(X_train, y_train)"
   ]
  },
  {
   "cell_type": "code",
   "execution_count": 20,
   "metadata": {},
   "outputs": [
    {
     "name": "stdout",
     "output_type": "stream",
     "text": [
      "Model with rank: 1\n",
      "Mean validation score: 0.976 (std: 0.001)\n",
      "Parameters: {'colsample_bytree': 0.7982492056533743, 'gamma': 0.05988106590962561, 'learning_rate': 0.2971581842219685, 'max_depth': 5, 'n_estimators': 124, 'subsample': 0.8716409276577959}\n",
      "\n",
      "Model with rank: 2\n",
      "Mean validation score: 0.976 (std: 0.001)\n",
      "Parameters: {'colsample_bytree': 0.7467983561008608, 'gamma': 0.02904180608409973, 'learning_rate': 0.28985284373248055, 'max_depth': 5, 'n_estimators': 139, 'subsample': 0.8832290311184181}\n",
      "\n",
      "Model with rank: 3\n",
      "Mean validation score: 0.976 (std: 0.001)\n",
      "Parameters: {'colsample_bytree': 0.8477854281978608, 'gamma': 0.1643758051437541, 'learning_rate': 0.22002025629501773, 'max_depth': 5, 'n_estimators': 110, 'subsample': 0.6303453312434656}\n",
      "\n"
     ]
    }
   ],
   "source": [
    "report_best_scores(search.cv_results_, 3)"
   ]
  },
  {
   "cell_type": "markdown",
   "metadata": {},
   "source": [
    "Now I try to fit a model with those parameters to check the metrics on the validation set"
   ]
  },
  {
   "cell_type": "code",
   "execution_count": 83,
   "metadata": {},
   "outputs": [
    {
     "name": "stdout",
     "output_type": "stream",
     "text": [
      "              precision    recall  f1-score   support\n",
      "\n",
      "           0       0.97      0.98      0.98     11904\n",
      "           1       0.99      0.99      0.99      4286\n",
      "           2       0.96      0.92      0.94      3810\n",
      "\n",
      "    accuracy                           0.97     20000\n",
      "   macro avg       0.97      0.97      0.97     20000\n",
      "weighted avg       0.97      0.97      0.97     20000\n",
      "\n"
     ]
    },
    {
     "data": {
      "image/png": "[encoded data removed]",
      "text/plain": [
       "<Figure size 600x400 with 2 Axes>"
      ]
     },
     "metadata": {},
     "output_type": "display_data"
    }
   ],
   "source": [
    "xgb_model = xgb.XGBClassifier(\n",
    "    objective=\"multi:softprob\", \n",
    "    colsample_bytree=0.798,\n",
    "    random_state=42, \n",
    "    learning_rate=0.29, \n",
    "    gamma=0.0598, \n",
    "    max_depth=10, \n",
    "    n_estimators=124,\n",
    "    subsample=0.877\n",
    ")\n",
    "\n",
    "xgb_model.fit(X_train, y_train)\n",
    "\n",
    "y_pred = xgb_model.predict(X_test)\n",
    "\n",
    "# Compute precision, recall, f1-score, support (for each class)\n",
    "classification_rep = classification_report(y_test, y_pred)\n",
    "conf_matrix = confusion_matrix(y_test, y_pred)\n",
    "print(classification_rep)\n",
    "plot_confusion_matrix(conf_matrix)"
   ]
  }
 ],
 "metadata": {
  "kernelspec": {
   "display_name": "analysis-o47EjVCh-py3.10",
   "language": "python",
   "name": "python3"
  },
  "language_info": {
   "codemirror_mode": {
    "name": "ipython",
    "version": 3
   },
   "file_extension": ".py",
   "mimetype": "text/x-python",
   "name": "python",
   "nbconvert_exporter": "python",
   "pygments_lexer": "ipython3",
   "version": "3.10.11"
  }
 },
 "nbformat": 4,
 "nbformat_minor": 2
}
